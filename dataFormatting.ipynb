{
 "cells": [
  {
   "cell_type": "markdown",
   "metadata": {},
   "source": [
    "# Reformat saved CSV data for training Upper Extremity Model\n",
    "Mikey Fernandez\n",
    "12/07/22"
   ]
  },
  {
   "cell_type": "code",
   "execution_count": 1,
   "metadata": {},
   "outputs": [],
   "source": [
    "import pickle\n",
    "import numpy as np\n",
    "np.set_printoptions(linewidth=200)\n",
    "import pandas as pd\n",
    "from scipy import interpolate\n",
    "import os\n",
    "import math"
   ]
  },
  {
   "cell_type": "code",
   "execution_count": 10,
   "metadata": {},
   "outputs": [
    {
     "name": "stdout",
     "output_type": "stream",
     "text": [
      "Couldnt make saveFol\n",
      "['free1_2023-03-07_19:15:03', 'free2_2023-03-07_19:17:25', 'free_2023-03-07_19:14:28', 'handCloseOpen1_2023-03-07_19:04:57', 'handCloseOpen2_2023-03-07_19:05:37', 'handCloseOpen_2023-03-07_19:04:21', 'indexFlexExtend1_2023-03-07_18:52:48', 'indexFlexExtend2_2023-03-07_18:53:53', 'indexFlexExtend_2023-03-07_18:44:57', 'mrpFlexExtend1_2023-03-07_18:57:19', 'mrpFlexExtend2_2023-03-07_18:58:09', 'mrpFlexExtend_2023-03-07_18:56:42', 'pinch1_2023-03-07_19:10:18', 'pinch2_2023-03-07_19:11:02', 'pinch_2023-03-07_19:09:08', 'pklFol', 'pointing1_2023-03-07_19:07:49', 'pointing2_2023-03-07_19:08:29', 'pointing_2023-03-07_19:07:07', 'thumbFlexExtend1_2023-03-07_19:00:19', 'thumbFlexExtend2_2023-03-07_19:01:08', 'thumbFlexExtend_2023-03-07_18:59:00', 'wristDigits1_2023-03-07_19:12:45', 'wristDigits2_2023-03-07_19:13:25', 'wristDigits_2023-03-07_19:12:10', 'wristFlexExtend1_2023-03-07_18:46:44', 'wristFlexExtend2_2023-03-07_18:48:02', 'wristFlexExtend_2023-03-07_18:39:04']\n"
     ]
    }
   ],
   "source": [
    "# setup \n",
    "# joints = ['thumbPPos', 'thumbYPos', 'indexPos', 'mrpPos', 'wristRot', 'wristFlex', 'humPos', 'elbowPos']\n",
    "joints = ['thumbPPos', 'indexPos', 'mrpPos', 'wristFlex']\n",
    "emgChannels = [0, 1, 2, 4, 5, 7, 8, 9]\n",
    "dataName = 'MF_0307'\n",
    "data = '_2023'\n",
    "\n",
    "saveName = 'pklFol'\n",
    "\n",
    "OUTPUT_FPS = 60 # desired 60 Hz, will have to upsample\n",
    "\n",
    "# information about the save file\n",
    "baseFol = os.path.join(os.getcwd(), dataName)\n",
    "dataFolders = sorted(os.listdir(baseFol))\n",
    "\n",
    "saveFol = os.path.join(baseFol, saveName)\n",
    "try:\n",
    "    os.mkdir(saveFol)\n",
    "except:\n",
    "    print('Couldnt make saveFol')\n",
    "    \n",
    "print(dataFolders)"
   ]
  },
  {
   "cell_type": "code",
   "execution_count": 11,
   "metadata": {},
   "outputs": [],
   "source": [
    "def interpolateData(emg, pos, Fs_in, Fs_out=60):\n",
    "    assert emg.shape[0] == pos.shape[0], 'Input data not the same size - check me!!'\n",
    "\n",
    "    dataLen = emg.shape[0]\n",
    "    t = np.arange(dataLen)/Fs_in\n",
    "    upSampleRatio = Fs_out/Fs_in\n",
    "    tOut = np.arange(dataLen*upSampleRatio)/Fs_out\n",
    "\n",
    "    femgInterp = interpolate.interp1d(t, emg, axis=0, fill_value='extrapolate')\n",
    "    fposInterp = interpolate.interp1d(t, pos, axis=0, fill_value='extrapolate')\n",
    "\n",
    "    outputEMG = femgInterp(tOut)\n",
    "    outputPos = fposInterp(tOut)\n",
    "\n",
    "    return (outputEMG, outputPos)\n",
    "\n",
    "def smoothData(pos, Fs=60, timeAverage=0.25):\n",
    "    \"\"\"Smooth out pos data over time using a timeAverage second window\"\"\"\n",
    "    dataPointsSmoothing = int(timeAverage*Fs)\n",
    "    numJoints = pos.shape[1]\n",
    "    numDataPoints = pos.shape[0]\n",
    "\n",
    "    outputPos = np.zeros_like(pos)\n",
    "    for i in range(numJoints):\n",
    "        outputPos[:, i] = np.convolve(pos[:, i], np.ones(dataPointsSmoothing), 'same')/dataPointsSmoothing\n",
    "\n",
    "    return outputPos"
   ]
  },
  {
   "cell_type": "markdown",
   "metadata": {},
   "source": []
  },
  {
   "cell_type": "code",
   "execution_count": 18,
   "metadata": {},
   "outputs": [
    {
     "name": "stdout",
     "output_type": "stream",
     "text": [
      "Processing free1_2023-03-07_19:15:03...\n",
      "Processing free2_2023-03-07_19:17:25...\n",
      "Processing free_2023-03-07_19:14:28...\n",
      "Processing handCloseOpen1_2023-03-07_19:04:57...\n",
      "Processing handCloseOpen2_2023-03-07_19:05:37...\n",
      "Processing handCloseOpen_2023-03-07_19:04:21...\n",
      "Processing indexFlexExtend1_2023-03-07_18:52:48...\n",
      "Processing indexFlexExtend2_2023-03-07_18:53:53...\n",
      "Processing indexFlexExtend_2023-03-07_18:44:57...\n",
      "Processing mrpFlexExtend1_2023-03-07_18:57:19...\n",
      "Processing mrpFlexExtend2_2023-03-07_18:58:09...\n",
      "Processing mrpFlexExtend_2023-03-07_18:56:42...\n",
      "Processing pinch1_2023-03-07_19:10:18...\n",
      "Processing pinch2_2023-03-07_19:11:02...\n",
      "Processing pinch_2023-03-07_19:09:08...\n",
      "Processing pointing1_2023-03-07_19:07:49...\n",
      "Processing pointing2_2023-03-07_19:08:29...\n",
      "Processing pointing_2023-03-07_19:07:07...\n",
      "Processing thumbFlexExtend1_2023-03-07_19:00:19...\n",
      "Processing thumbFlexExtend2_2023-03-07_19:01:08...\n",
      "Processing thumbFlexExtend_2023-03-07_18:59:00...\n",
      "Processing wristDigits1_2023-03-07_19:12:45...\n",
      "Processing wristDigits2_2023-03-07_19:13:25...\n",
      "Processing wristDigits_2023-03-07_19:12:10...\n",
      "Processing wristFlexExtend1_2023-03-07_18:46:44...\n",
      "Processing wristFlexExtend2_2023-03-07_18:48:02...\n",
      "Processing wristFlexExtend_2023-03-07_18:39:04...\n"
     ]
    }
   ],
   "source": [
    "for dataFol in dataFolders:\n",
    "    if dataFol == saveName: continue\n",
    "    \n",
    "    print(f'Processing {dataFol}...')\n",
    "    fullName = os.path.join(baseFol, dataFol)\n",
    "\n",
    "    trialName = dataFol.split('_')[0]\n",
    "\n",
    "    # load the data\n",
    "    rawEMG = pd.read_csv(fullName + '/' + trialName + '_emg.csv', delimiter='\\t')\n",
    "    rawPos = pd.read_csv(fullName + '/' + trialName + '_pos.csv', delimiter='\\t')\n",
    "    with open(fullName + '/' + trialName + '_fps.txt', 'r') as file:\n",
    "        inputFPS = float(file.readline())\n",
    "\n",
    "    # get the right columns\n",
    "    inputEMG = rawEMG[[str(i) for i in emgChannels]].to_numpy()\n",
    "    inputPos = rawPos[joints].to_numpy()\n",
    "\n",
    "    # resample the data at 60 Hz for use to train the\n",
    "    (outputEMG, outputPos) = interpolateData(inputEMG, inputPos, inputFPS, OUTPUT_FPS)\n",
    "\n",
    "    # smooth data\n",
    "    smoothedPos = smoothData(outputPos)\n",
    "    smoothedDf = pd.DataFrame(data=smoothedPos, columns=joints)\n",
    "    smoothedDf.to_csv(fullName + '/' + trialName + '_smoothedPos.csv', encoding='utf-8', sep=\"\\t\", index=False)\n",
    "\n",
    "    # put the data in the expected form\n",
    "    timeSteps = outputPos.shape[0]\n",
    "    # startRange = 0 if startTime < 0 else math.ceil(startTime*OUTPUT_FPS)\n",
    "    # endRange = timeSteps if endTime < 0 else math.ceil(endTime*OUTPUT_FPS)\n",
    "\n",
    "    posPkl = []\n",
    "    emgPkl = []\n",
    "    smoothPkl = []\n",
    "    # for t in range(startRange, endRange):\n",
    "    for t in range(timeSteps):\n",
    "        posPkl.append(np.array(list(outputPos[t, :])))\n",
    "        emgPkl.append(np.array(list(outputEMG[t, :])))\n",
    "        smoothPkl.append(np.array(list(smoothedPos[t, :])))\n",
    "\n",
    "    pklData = [emgPkl, posPkl, smoothPkl]\n",
    "\n",
    "    # save this into a pkl file\n",
    "    with open(saveFol + '/' + trialName + '.pkl', 'wb') as file:\n",
    "        pickle.dump(pklData, file)\n",
    "\n",
    "    os.mv"
   ]
  },
  {
   "cell_type": "code",
   "execution_count": 1295,
   "metadata": {},
   "outputs": [],
   "source": [
    "# load the data\n",
    "rawEMG = pd.read_csv(dataFol + '/' + fileNames + '_emg.csv', delimiter='\\t')\n",
    "rawPos = pd.read_csv(dataFol + '/' + fileNames + '_pos.csv', delimiter='\\t')\n",
    "with open(dataFol + '/' + fileNames + '_fps.txt', 'r') as file:\n",
    "    inputFPS = float(file.readline())\n",
    "\n",
    "# get the right columns\n",
    "inputEMG = rawEMG[[str(i) for i in emgChannels]].to_numpy()\n",
    "inputPos = rawPos[joints].to_numpy()"
   ]
  },
  {
   "cell_type": "code",
   "execution_count": 1297,
   "metadata": {},
   "outputs": [],
   "source": [
    "# resample the data at 60 Hz for use to train the\n",
    "(outputEMG, outputPos) = interpolateData(inputEMG, inputPos, inputFPS, OUTPUT_FPS)"
   ]
  },
  {
   "cell_type": "code",
   "execution_count": 1298,
   "metadata": {},
   "outputs": [],
   "source": [
    "# smooth data\n",
    "smoothedPos = smoothData(outputPos)\n",
    "smoothedDf = pd.DataFrame(data=smoothedPos, columns=joints)\n",
    "smoothedDf.to_csv(dataFol + '/' + fileNames + '_smoothedPos.csv', encoding='utf-8', sep=\"\\t\", index=False)"
   ]
  },
  {
   "cell_type": "code",
   "execution_count": 1299,
   "metadata": {},
   "outputs": [],
   "source": [
    "# put the data in the expected form\n",
    "timeSteps = outputPos.shape[0]\n",
    "startRange = 0 if startTime < 0 else math.ceil(startTime*OUTPUT_FPS)\n",
    "endRange = timeSteps if endTime < 0 else math.ceil(endTime*OUTPUT_FPS)\n",
    "\n",
    "posPkl = []\n",
    "emgPkl = []\n",
    "smoothPkl = []\n",
    "for t in range(startRange, endRange):\n",
    "    outputPos[t, 0:4] = np.pi/4\n",
    "    smoothedPos[t, 0:4] = np.pi/4\n",
    "    outputPos[t, 4] -= 0.23\n",
    "    smoothedPos[t, 4] -= 0.23\n",
    "    posPkl.append(np.array(list(outputPos[t, :])))\n",
    "    emgPkl.append(np.array(list(outputEMG[t, :])))\n",
    "    smoothPkl.append(np.array(list(smoothedPos[t, :])))\n",
    "\n",
    "\n",
    "pklData = [emgPkl, posPkl, smoothPkl]"
   ]
  },
  {
   "cell_type": "code",
   "execution_count": 1304,
   "metadata": {},
   "outputs": [],
   "source": [
    "# save this into a pkl file\n",
    "with open(dataFol + '/' + fileNames + '_pkl.pkl', 'wb') as file:\n",
    "    pickle.dump(pklData, file)"
   ]
  },
  {
   "cell_type": "code",
   "execution_count": 21,
   "metadata": {},
   "outputs": [
    {
     "data": {
      "text/plain": [
       "<matplotlib.legend.Legend at 0x7f209c1d2a00>"
      ]
     },
     "execution_count": 21,
     "metadata": {},
     "output_type": "execute_result"
    }
   ],
   "source": [
    "import matplotlib.pyplot as plt\n",
    "%matplotlib qt\n",
    "\n",
    "testFol = os.path.join(saveFol)\n",
    "fileName = 'free2'\n",
    "\n",
    "with open(testFol + '/' + fileName + '.pkl', 'rb') as file:\n",
    "    loadedData = pickle.load(file)\n",
    "\n",
    "E = loadedData[0]\n",
    "T = loadedData[1]\n",
    "T_smooth = loadedData[2]\n",
    "\n",
    "timeSteps = np.array(E).shape[0]\n",
    "numEMG = np.array(E).shape[1]\n",
    "numJoints = np.array(T).shape[1]\n",
    "t = np.linspace(0, timeSteps - 1, timeSteps)/OUTPUT_FPS\n",
    "\n",
    "fig, (ax1, ax2) = plt.subplots(nrows=2, ncols=1)\n",
    "fig.suptitle(fileName)\n",
    "for i in range(numEMG):\n",
    "    ax1.plot(t, np.array(E)[:, i], label=f'{emgChannels[i]}')\n",
    "\n",
    "ax1.autoscale(enable=True, axis='x', tight=True)\n",
    "ax1.legend()\n",
    "\n",
    "for i in range(numJoints):\n",
    "    ax2.plot(t, np.array(T)[:, i], label=f'{joints[i]}')\n",
    "plt.gca().set_prop_cycle(None)\n",
    "\n",
    "for i in range(numJoints):\n",
    "    ax2.plot(t, np.array(T_smooth)[:, i], label=f'{joints[i]} Smooth', linestyle='dashed')\n",
    "\n",
    "ax2.autoscale(enable=True, axis='x', tight=True)\n",
    "ax2.legend()"
   ]
  }
 ],
 "metadata": {
  "kernelspec": {
   "display_name": "Python 3.9.13 ('base')",
   "language": "python",
   "name": "python3"
  },
  "language_info": {
   "codemirror_mode": {
    "name": "ipython",
    "version": 3
   },
   "file_extension": ".py",
   "mimetype": "text/x-python",
   "name": "python",
   "nbconvert_exporter": "python",
   "pygments_lexer": "ipython3",
   "version": "3.9.15"
  },
  "orig_nbformat": 4,
  "vscode": {
   "interpreter": {
    "hash": "79ce7e6187e070a9a9a54be529f4ed3a0ba5f87731184520c540b2c56f30a41d"
   }
  }
 },
 "nbformat": 4,
 "nbformat_minor": 2
}
